{
 "cells": [
  {
   "cell_type": "code",
   "execution_count": 1,
   "id": "602c1447",
   "metadata": {},
   "outputs": [
    {
     "name": "stderr",
     "output_type": "stream",
     "text": [
      "2025-08-11 01:54:06.612India Standard Time 31016 DEBUG [MyGraph] __init__ start\n",
      "2025-08-11 01:54:06.612India Standard Time 31016 DEBUG [Graph] __init__ start\n",
      "2025-08-11 01:54:06.627India Standard Time 31016 DEBUG [Graph] __init__ end\n",
      "2025-08-11 01:54:06.628India Standard Time 31016 DEBUG [MyGraph] __init__ end\n"
     ]
    }
   ],
   "source": [
    "from graph import MyGraph\n",
    "g = MyGraph()"
   ]
  },
  {
   "cell_type": "code",
   "execution_count": 10,
   "id": "cc67b4de",
   "metadata": {},
   "outputs": [
    {
     "name": "stderr",
     "output_type": "stream",
     "text": [
      "2025-08-11 01:55:03.358India Standard Time 31016 DEBUG [GraphNode] looking for <function MyGraph.E at 0x000002BAC055B4C0> in cache\n",
      "2025-08-11 01:55:03.359India Standard Time 31016 DEBUG [MyGraph] graph_node E called\n",
      "2025-08-11 01:55:03.360India Standard Time 31016 DEBUG [GraphNode] looking for <function MyGraph.A at 0x000002BAC055B280> in cache\n",
      "2025-08-11 01:55:03.360India Standard Time 31016 DEBUG [MyGraph] graph_node A called\n",
      "2025-08-11 01:55:03.362India Standard Time 31016 DEBUG [GraphNode] adding <function MyGraph.A at 0x000002BAC055B280>: 10 in cache\n",
      "2025-08-11 01:55:03.363India Standard Time 31016 DEBUG [GraphNode] looking for <function MyGraph.D at 0x000002BAC055B430> in cache\n",
      "2025-08-11 01:55:03.364India Standard Time 31016 DEBUG [MyGraph] graph_node D called\n",
      "2025-08-11 01:55:03.366India Standard Time 31016 DEBUG [GraphNode] looking for <function MyGraph.B at 0x000002BAC055B310> in cache\n",
      "2025-08-11 01:55:03.367India Standard Time 31016 DEBUG [MyGraph] graph_node B called\n",
      "2025-08-11 01:55:03.368India Standard Time 31016 DEBUG [GraphNode] looking for <function MyGraph.A at 0x000002BAC055B280> in cache\n",
      "2025-08-11 01:55:03.369India Standard Time 31016 DEBUG [GraphNode] found <function MyGraph.A at 0x000002BAC055B280> in cache\n",
      "2025-08-11 01:55:03.369India Standard Time 31016 DEBUG [GraphNode] adding <function MyGraph.B at 0x000002BAC055B310>: 100 in cache\n",
      "2025-08-11 01:55:03.370India Standard Time 31016 DEBUG [GraphNode] adding <function MyGraph.D at 0x000002BAC055B430>: 1000 in cache\n",
      "2025-08-11 01:55:03.371India Standard Time 31016 DEBUG [GraphNode] adding <function MyGraph.E at 0x000002BAC055B4C0>: 2000 in cache\n"
     ]
    },
    {
     "data": {
      "text/plain": [
       "2000"
      ]
     },
     "execution_count": 10,
     "metadata": {},
     "output_type": "execute_result"
    }
   ],
   "source": [
    "g.E()"
   ]
  },
  {
   "cell_type": "code",
   "execution_count": 3,
   "id": "f0a82329",
   "metadata": {},
   "outputs": [
    {
     "data": {
      "text/plain": [
       "{'A': set(),\n",
       " 'B': {'A'},\n",
       " 'C': {'A', 'B'},\n",
       " 'D': {'A', 'B'},\n",
       " 'E': {'A', 'B', 'D'},\n",
       " 'F': {'A', 'B', 'D', 'E'}}"
      ]
     },
     "execution_count": 3,
     "metadata": {},
     "output_type": "execute_result"
    }
   ],
   "source": [
    "g._dependencies"
   ]
  },
  {
   "cell_type": "code",
   "execution_count": 11,
   "id": "b0dc77cc",
   "metadata": {},
   "outputs": [
    {
     "name": "stderr",
     "output_type": "stream",
     "text": [
      "2025-08-11 01:55:09.720India Standard Time 31016 DEBUG [GraphNode] looking for <function MyGraph.F at 0x000002BAC055B550> in cache\n",
      "2025-08-11 01:55:09.721India Standard Time 31016 DEBUG [MyGraph] graph_node F called\n",
      "2025-08-11 01:55:09.722India Standard Time 31016 DEBUG [GraphNode] looking for <function MyGraph.A at 0x000002BAC055B280> in cache\n",
      "2025-08-11 01:55:09.723India Standard Time 31016 DEBUG [GraphNode] found <function MyGraph.A at 0x000002BAC055B280> in cache\n",
      "2025-08-11 01:55:09.724India Standard Time 31016 DEBUG [GraphNode] looking for <function MyGraph.E at 0x000002BAC055B4C0> in cache\n",
      "2025-08-11 01:55:09.724India Standard Time 31016 DEBUG [GraphNode] found <function MyGraph.E at 0x000002BAC055B4C0> in cache\n",
      "2025-08-11 01:55:09.725India Standard Time 31016 DEBUG [GraphNode] adding <function MyGraph.F at 0x000002BAC055B550>: 3000.0 in cache\n"
     ]
    },
    {
     "data": {
      "text/plain": [
       "3000.0"
      ]
     },
     "execution_count": 11,
     "metadata": {},
     "output_type": "execute_result"
    }
   ],
   "source": [
    "g.F()"
   ]
  },
  {
   "cell_type": "code",
   "execution_count": 12,
   "id": "9a4c90cd",
   "metadata": {},
   "outputs": [
    {
     "name": "stderr",
     "output_type": "stream",
     "text": [
      "2025-08-11 01:55:12.24India Standard Time 31016 DEBUG [GraphNode] looking for <function MyGraph.C at 0x000002BAC055B3A0> in cache\n",
      "2025-08-11 01:55:12.25India Standard Time 31016 DEBUG [MyGraph] graph_node C called\n",
      "2025-08-11 01:55:12.26India Standard Time 31016 DEBUG [GraphNode] looking for <function MyGraph.B at 0x000002BAC055B310> in cache\n",
      "2025-08-11 01:55:12.26India Standard Time 31016 DEBUG [GraphNode] found <function MyGraph.B at 0x000002BAC055B310> in cache\n",
      "2025-08-11 01:55:12.28India Standard Time 31016 DEBUG [GraphNode] looking for <function MyGraph.A at 0x000002BAC055B280> in cache\n",
      "2025-08-11 01:55:12.30India Standard Time 31016 DEBUG [GraphNode] found <function MyGraph.A at 0x000002BAC055B280> in cache\n",
      "2025-08-11 01:55:12.31India Standard Time 31016 DEBUG [GraphNode] adding <function MyGraph.C at 0x000002BAC055B3A0>: 110 in cache\n"
     ]
    },
    {
     "data": {
      "text/plain": [
       "110"
      ]
     },
     "execution_count": 12,
     "metadata": {},
     "output_type": "execute_result"
    }
   ],
   "source": [
    "g.C()"
   ]
  },
  {
   "cell_type": "code",
   "execution_count": 9,
   "id": "b1b9614f",
   "metadata": {},
   "outputs": [
    {
     "name": "stderr",
     "output_type": "stream",
     "text": [
      "2025-08-11 01:54:56.932India Standard Time 31016 DEBUG [GraphNode] <function MyGraph.A at 0x000002BAC055B280> invalidated\n"
     ]
    }
   ],
   "source": [
    "g.A.set(3)"
   ]
  },
  {
   "cell_type": "code",
   "execution_count": 10,
   "id": "fb6ab0ae",
   "metadata": {},
   "outputs": [
    {
     "data": {
      "text/plain": [
       "{'A': set(),\n",
       " 'B': {'A'},\n",
       " 'C': {'A', 'B'},\n",
       " 'D': {'A', 'B'},\n",
       " 'E': {'A', 'B', 'D'},\n",
       " 'F': {'A', 'B', 'D', 'E'}}"
      ]
     },
     "execution_count": 10,
     "metadata": {},
     "output_type": "execute_result"
    }
   ],
   "source": [
    "g._dependencies"
   ]
  },
  {
   "cell_type": "code",
   "execution_count": 14,
   "id": "1d07a2cb",
   "metadata": {},
   "outputs": [
    {
     "name": "stderr",
     "output_type": "stream",
     "text": [
      "2025-08-09 23:39:59.149India Standard Time 27352 DEBUG [GraphNode] looking for <function MyGraph.C at 0x000001C16CBC43A0> in cache\n",
      "2025-08-09 23:39:59.150India Standard Time 27352 DEBUG [GraphNode] ....entered stack for <function MyGraph.C at 0x000001C16CBC43A0> | stack: ['C']\n",
      "2025-08-09 23:39:59.150India Standard Time 27352 DEBUG [MyGraph] graph_node C called\n",
      "2025-08-09 23:39:59.151India Standard Time 27352 DEBUG [GraphNode] looking for <function MyGraph.B at 0x000001C16CBC4310> in cache\n",
      "2025-08-09 23:39:59.153India Standard Time 27352 DEBUG [GraphNode] ........entered stack for <function MyGraph.B at 0x000001C16CBC4310> | stack: ['C', 'B']\n",
      "2025-08-09 23:39:59.154India Standard Time 27352 DEBUG [MyGraph] graph_node B called\n",
      "2025-08-09 23:39:59.154India Standard Time 27352 DEBUG [GraphNode] looking for <function MyGraph.A at 0x000001C16CBC4280> in cache\n",
      "2025-08-09 23:39:59.154India Standard Time 27352 DEBUG [GraphNode] ............entered stack for <function MyGraph.A at 0x000001C16CBC4280> | stack: ['C', 'B', 'A']\n",
      "2025-08-09 23:39:59.154India Standard Time 27352 DEBUG [MyGraph] graph_node A called\n",
      "2025-08-09 23:39:59.154India Standard Time 27352 DEBUG [GraphNode] ........exitied stack for <function MyGraph.A at 0x000001C16CBC4280> | stack: ['C', 'B']\n",
      "2025-08-09 23:39:59.159India Standard Time 27352 DEBUG [GraphNode] adding <function MyGraph.A at 0x000001C16CBC4280>: 10 in cache\n",
      "2025-08-09 23:39:59.160India Standard Time 27352 DEBUG [GraphNode] ....exitied stack for <function MyGraph.B at 0x000001C16CBC4310> | stack: ['C']\n",
      "2025-08-09 23:39:59.161India Standard Time 27352 DEBUG [GraphNode] adding <function MyGraph.B at 0x000001C16CBC4310>: 100 in cache\n",
      "2025-08-09 23:39:59.162India Standard Time 27352 DEBUG [GraphNode] looking for <function MyGraph.A at 0x000001C16CBC4280> in cache\n",
      "2025-08-09 23:39:59.162India Standard Time 27352 DEBUG [GraphNode] found <function MyGraph.A at 0x000001C16CBC4280> in cache\n",
      "2025-08-09 23:39:59.163India Standard Time 27352 DEBUG [GraphNode] exitied stack for <function MyGraph.C at 0x000001C16CBC43A0> | stack: []\n",
      "2025-08-09 23:39:59.164India Standard Time 27352 DEBUG [GraphNode] adding <function MyGraph.C at 0x000001C16CBC43A0>: 110 in cache\n"
     ]
    },
    {
     "data": {
      "text/plain": [
       "110"
      ]
     },
     "execution_count": 14,
     "metadata": {},
     "output_type": "execute_result"
    }
   ],
   "source": [
    "g.C()"
   ]
  },
  {
   "cell_type": "code",
   "execution_count": 9,
   "id": "4e3ac7fd",
   "metadata": {},
   "outputs": [
    {
     "data": {
      "text/plain": [
       "{'A': set(),\n",
       " 'B': {'A'},\n",
       " 'C': {'A', 'B'},\n",
       " 'D': {'A', 'B'},\n",
       " 'E': {'A', 'B', 'D'},\n",
       " 'F': {'A', 'E'}}"
      ]
     },
     "execution_count": 9,
     "metadata": {},
     "output_type": "execute_result"
    }
   ],
   "source": [
    "g._dependencies"
   ]
  },
  {
   "cell_type": "code",
   "execution_count": 10,
   "id": "155e01c2",
   "metadata": {},
   "outputs": [
    {
     "data": {
      "text/plain": [
       "{'A': {'B', 'C', 'D', 'E', 'F'},\n",
       " 'B': {'C', 'D', 'E'},\n",
       " 'C': set(),\n",
       " 'D': {'E'},\n",
       " 'E': {'F'},\n",
       " 'F': set()}"
      ]
     },
     "execution_count": 10,
     "metadata": {},
     "output_type": "execute_result"
    }
   ],
   "source": [
    "g._dependents"
   ]
  },
  {
   "cell_type": "code",
   "execution_count": null,
   "id": "a24107e5",
   "metadata": {},
   "outputs": [],
   "source": [
    "set([1,2,3]).update()"
   ]
  },
  {
   "cell_type": "code",
   "execution_count": null,
   "id": "ef6ec583",
   "metadata": {},
   "outputs": [],
   "source": []
  }
 ],
 "metadata": {
  "kernelspec": {
   "display_name": "py3",
   "language": "python",
   "name": "python3"
  },
  "language_info": {
   "codemirror_mode": {
    "name": "ipython",
    "version": 3
   },
   "file_extension": ".py",
   "mimetype": "text/x-python",
   "name": "python",
   "nbconvert_exporter": "python",
   "pygments_lexer": "ipython3",
   "version": "3.8.12"
  }
 },
 "nbformat": 4,
 "nbformat_minor": 5
}
