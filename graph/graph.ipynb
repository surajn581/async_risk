{
 "cells": [
  {
   "cell_type": "code",
   "execution_count": 1,
   "id": "602c1447",
   "metadata": {},
   "outputs": [
    {
     "name": "stderr",
     "output_type": "stream",
     "text": [
      "2025-08-09 03:31:23.589India Standard Time 2100 DEBUG [MyGraph] __init__ start\n",
      "2025-08-09 03:31:23.590India Standard Time 2100 DEBUG [Graph] __init__ start\n",
      "2025-08-09 03:31:23.591India Standard Time 2100 DEBUG [Graph] __init__ end\n",
      "2025-08-09 03:31:23.591India Standard Time 2100 DEBUG [MyGraph] __init__ end\n"
     ]
    }
   ],
   "source": [
    "from graph import MyGraph\n",
    "g = MyGraph()"
   ]
  },
  {
   "cell_type": "code",
   "execution_count": 2,
   "id": "cc67b4de",
   "metadata": {},
   "outputs": [
    {
     "name": "stderr",
     "output_type": "stream",
     "text": [
      "2025-08-09 03:31:23.606India Standard Time 2100 DEBUG looking for E in cache\n",
      "2025-08-09 03:31:23.607India Standard Time 2100 DEBUG ....entered stack for E | stack: ['E']\n",
      "2025-08-09 03:31:23.608India Standard Time 2100 DEBUG looking for A in cache\n",
      "2025-08-09 03:31:23.609India Standard Time 2100 DEBUG ........entered stack for A | stack: ['E', 'A']\n",
      "2025-08-09 03:31:23.609India Standard Time 2100 DEBUG graph_node A called\n",
      "2025-08-09 03:31:23.610India Standard Time 2100 DEBUG ....exitied stack for A | stack: ['E']\n",
      "2025-08-09 03:31:23.611India Standard Time 2100 DEBUG adding A: 10 in cache\n",
      "2025-08-09 03:31:23.612India Standard Time 2100 DEBUG looking for D in cache\n",
      "2025-08-09 03:31:23.613India Standard Time 2100 DEBUG ........entered stack for D | stack: ['E', 'D']\n",
      "2025-08-09 03:31:23.614India Standard Time 2100 DEBUG looking for B in cache\n",
      "2025-08-09 03:31:23.614India Standard Time 2100 DEBUG ............entered stack for B | stack: ['E', 'D', 'B']\n",
      "2025-08-09 03:31:23.615India Standard Time 2100 DEBUG graph_node B called\n",
      "2025-08-09 03:31:23.615India Standard Time 2100 DEBUG looking for A in cache\n",
      "2025-08-09 03:31:23.616India Standard Time 2100 DEBUG found A in cache\n",
      "2025-08-09 03:31:23.617India Standard Time 2100 DEBUG ........exitied stack for B | stack: ['E', 'D']\n",
      "2025-08-09 03:31:23.619India Standard Time 2100 DEBUG adding B: 100 in cache\n",
      "2025-08-09 03:31:23.620India Standard Time 2100 DEBUG ....exitied stack for D | stack: ['E']\n",
      "2025-08-09 03:31:23.621India Standard Time 2100 DEBUG adding D: 1000 in cache\n",
      "2025-08-09 03:31:23.622India Standard Time 2100 DEBUG exitied stack for E | stack: []\n",
      "2025-08-09 03:31:23.623India Standard Time 2100 DEBUG adding E: 2000 in cache\n"
     ]
    },
    {
     "data": {
      "text/plain": [
       "2000"
      ]
     },
     "execution_count": 2,
     "metadata": {},
     "output_type": "execute_result"
    }
   ],
   "source": [
    "g.E()"
   ]
  },
  {
   "cell_type": "code",
   "execution_count": 3,
   "id": "f0a82329",
   "metadata": {},
   "outputs": [
    {
     "data": {
      "text/plain": [
       "{'A': set(),\n",
       " 'B': {'A'},\n",
       " 'C': set(),\n",
       " 'D': {'A', 'B'},\n",
       " 'E': {'A', 'B', 'D'},\n",
       " 'F': set()}"
      ]
     },
     "execution_count": 3,
     "metadata": {},
     "output_type": "execute_result"
    }
   ],
   "source": [
    "g._dependencies"
   ]
  },
  {
   "cell_type": "code",
   "execution_count": 4,
   "id": "b0dc77cc",
   "metadata": {},
   "outputs": [
    {
     "name": "stderr",
     "output_type": "stream",
     "text": [
      "2025-08-09 03:31:23.669India Standard Time 2100 DEBUG looking for F in cache\n",
      "2025-08-09 03:31:23.670India Standard Time 2100 DEBUG ....entered stack for F | stack: ['F']\n",
      "2025-08-09 03:31:23.673India Standard Time 2100 DEBUG looking for A in cache\n",
      "2025-08-09 03:31:23.675India Standard Time 2100 DEBUG found A in cache\n",
      "2025-08-09 03:31:23.676India Standard Time 2100 DEBUG looking for E in cache\n",
      "2025-08-09 03:31:23.676India Standard Time 2100 DEBUG found E in cache\n",
      "2025-08-09 03:31:23.678India Standard Time 2100 DEBUG exitied stack for F | stack: []\n",
      "2025-08-09 03:31:23.679India Standard Time 2100 DEBUG adding F: 3000.0 in cache\n"
     ]
    },
    {
     "data": {
      "text/plain": [
       "3000.0"
      ]
     },
     "execution_count": 4,
     "metadata": {},
     "output_type": "execute_result"
    }
   ],
   "source": [
    "g.F()"
   ]
  },
  {
   "cell_type": "code",
   "execution_count": 5,
   "id": "9a4c90cd",
   "metadata": {},
   "outputs": [
    {
     "name": "stderr",
     "output_type": "stream",
     "text": [
      "2025-08-09 03:31:23.700India Standard Time 2100 DEBUG looking for C in cache\n",
      "2025-08-09 03:31:23.701India Standard Time 2100 DEBUG ....entered stack for C | stack: ['C']\n",
      "2025-08-09 03:31:23.702India Standard Time 2100 DEBUG graph_node C called\n",
      "2025-08-09 03:31:23.703India Standard Time 2100 DEBUG looking for B in cache\n",
      "2025-08-09 03:31:23.703India Standard Time 2100 DEBUG found B in cache\n",
      "2025-08-09 03:31:23.704India Standard Time 2100 DEBUG looking for A in cache\n",
      "2025-08-09 03:31:23.704India Standard Time 2100 DEBUG found A in cache\n",
      "2025-08-09 03:31:23.705India Standard Time 2100 DEBUG exitied stack for C | stack: []\n",
      "2025-08-09 03:31:23.706India Standard Time 2100 DEBUG adding C: 110 in cache\n"
     ]
    },
    {
     "data": {
      "text/plain": [
       "110"
      ]
     },
     "execution_count": 5,
     "metadata": {},
     "output_type": "execute_result"
    }
   ],
   "source": [
    "g.C()"
   ]
  },
  {
   "cell_type": "code",
   "execution_count": 6,
   "id": "b1b9614f",
   "metadata": {},
   "outputs": [
    {
     "name": "stderr",
     "output_type": "stream",
     "text": [
      "2025-08-09 03:31:23.731India Standard Time 2100 DEBUG graph_node A invalidated\n"
     ]
    }
   ],
   "source": [
    "g.set_A(11)"
   ]
  },
  {
   "cell_type": "code",
   "execution_count": 7,
   "id": "fb6ab0ae",
   "metadata": {},
   "outputs": [
    {
     "data": {
      "text/plain": [
       "{'A': set(),\n",
       " 'B': {'A'},\n",
       " 'C': {'A', 'B'},\n",
       " 'D': {'A', 'B'},\n",
       " 'E': {'A', 'B', 'D'},\n",
       " 'F': {'A', 'E'}}"
      ]
     },
     "execution_count": 7,
     "metadata": {},
     "output_type": "execute_result"
    }
   ],
   "source": [
    "g._dependencies"
   ]
  },
  {
   "cell_type": "code",
   "execution_count": 8,
   "id": "1d07a2cb",
   "metadata": {},
   "outputs": [
    {
     "name": "stderr",
     "output_type": "stream",
     "text": [
      "2025-08-09 03:31:23.765India Standard Time 2100 DEBUG looking for C in cache\n",
      "2025-08-09 03:31:23.766India Standard Time 2100 DEBUG ....entered stack for C | stack: ['C']\n",
      "2025-08-09 03:31:23.766India Standard Time 2100 DEBUG graph_node C called\n",
      "2025-08-09 03:31:23.767India Standard Time 2100 DEBUG looking for B in cache\n",
      "2025-08-09 03:31:23.768India Standard Time 2100 DEBUG ........entered stack for B | stack: ['C', 'B']\n",
      "2025-08-09 03:31:23.769India Standard Time 2100 DEBUG graph_node B called\n",
      "2025-08-09 03:31:23.770India Standard Time 2100 DEBUG looking for A in cache\n",
      "2025-08-09 03:31:23.770India Standard Time 2100 DEBUG ............entered stack for A | stack: ['C', 'B', 'A']\n",
      "2025-08-09 03:31:23.772India Standard Time 2100 DEBUG graph_node A called\n",
      "2025-08-09 03:31:23.773India Standard Time 2100 DEBUG ........exitied stack for A | stack: ['C', 'B']\n",
      "2025-08-09 03:31:23.774India Standard Time 2100 DEBUG adding A: 11 in cache\n",
      "2025-08-09 03:31:23.774India Standard Time 2100 DEBUG ....exitied stack for B | stack: ['C']\n",
      "2025-08-09 03:31:23.775India Standard Time 2100 DEBUG adding B: 121 in cache\n",
      "2025-08-09 03:31:23.776India Standard Time 2100 DEBUG looking for A in cache\n",
      "2025-08-09 03:31:23.777India Standard Time 2100 DEBUG found A in cache\n",
      "2025-08-09 03:31:23.777India Standard Time 2100 DEBUG exitied stack for C | stack: []\n",
      "2025-08-09 03:31:23.778India Standard Time 2100 DEBUG adding C: 132 in cache\n"
     ]
    },
    {
     "data": {
      "text/plain": [
       "132"
      ]
     },
     "execution_count": 8,
     "metadata": {},
     "output_type": "execute_result"
    }
   ],
   "source": [
    "g.C()"
   ]
  },
  {
   "cell_type": "code",
   "execution_count": 9,
   "id": "4e3ac7fd",
   "metadata": {},
   "outputs": [
    {
     "data": {
      "text/plain": [
       "{'A': set(),\n",
       " 'B': {'A'},\n",
       " 'C': {'A', 'B'},\n",
       " 'D': {'A', 'B'},\n",
       " 'E': {'A', 'B', 'D'},\n",
       " 'F': {'A', 'E'}}"
      ]
     },
     "execution_count": 9,
     "metadata": {},
     "output_type": "execute_result"
    }
   ],
   "source": [
    "g._dependencies"
   ]
  },
  {
   "cell_type": "code",
   "execution_count": 10,
   "id": "155e01c2",
   "metadata": {},
   "outputs": [
    {
     "data": {
      "text/plain": [
       "{'A': {'B', 'C', 'D', 'E', 'F'},\n",
       " 'B': {'C', 'D', 'E'},\n",
       " 'C': set(),\n",
       " 'D': {'E'},\n",
       " 'E': {'F'},\n",
       " 'F': set()}"
      ]
     },
     "execution_count": 10,
     "metadata": {},
     "output_type": "execute_result"
    }
   ],
   "source": [
    "g._dependents"
   ]
  }
 ],
 "metadata": {
  "kernelspec": {
   "display_name": "py3",
   "language": "python",
   "name": "python3"
  },
  "language_info": {
   "codemirror_mode": {
    "name": "ipython",
    "version": 3
   },
   "file_extension": ".py",
   "mimetype": "text/x-python",
   "name": "python",
   "nbconvert_exporter": "python",
   "pygments_lexer": "ipython3",
   "version": "3.8.12"
  }
 },
 "nbformat": 4,
 "nbformat_minor": 5
}
