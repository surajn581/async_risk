{
 "cells": [
  {
   "cell_type": "code",
   "execution_count": 5,
   "id": "362e7e5d",
   "metadata": {},
   "outputs": [],
   "source": [
    "import os\n",
    "import random\n",
    "import datetime\n",
    "import time"
   ]
  },
  {
   "cell_type": "code",
   "execution_count": 6,
   "id": "1f66abf1",
   "metadata": {},
   "outputs": [],
   "source": [
    "def writeToDir(dirName, value):\n",
    "    now = str(datetime.datetime.now()).replace(' ', '_').replace('-', '_').replace('.', '_').replace(':', '_')\n",
    "    fileName = f'{dirName}_{now}.txt'\n",
    "    filePath = os.path.join('C:\\\\Users\\\\suraj\\\\projects\\\\async_risk\\\\rxpy\\\\',dirName, fileName)\n",
    "    with open(filePath, 'w') as f:\n",
    "        f.write(str(value))"
   ]
  },
  {
   "cell_type": "code",
   "execution_count": 7,
   "id": "29a951d7",
   "metadata": {},
   "outputs": [],
   "source": [
    "writePrice = lambda value: writeToDir('prices', value)\n",
    "writeMarketMove = lambda value: writeToDir('market_moves', value)"
   ]
  },
  {
   "cell_type": "code",
   "execution_count": 44,
   "id": "b6584243",
   "metadata": {},
   "outputs": [],
   "source": [
    "writePrice(101)"
   ]
  },
  {
   "cell_type": "code",
   "execution_count": 43,
   "id": "924a2e52",
   "metadata": {},
   "outputs": [],
   "source": [
    "writeMarketMove(1.1)"
   ]
  },
  {
   "cell_type": "code",
   "execution_count": 46,
   "id": "6a827ecd",
   "metadata": {},
   "outputs": [
    {
     "name": "stdout",
     "output_type": "stream",
     "text": [
      "100\n",
      "1.01\n",
      "98\n",
      "0.97\n",
      "96\n",
      "105\n",
      "106\n",
      "107\n",
      "92\n",
      "91\n",
      "90\n",
      "111\n",
      "88\n",
      "99\n",
      "98\n",
      "85\n",
      "84\n",
      "0.95\n",
      "98\n",
      "0.96\n",
      "97\n",
      "110\n",
      "1.02\n",
      "96\n",
      "104\n",
      "100\n",
      "1.08\n",
      "92\n",
      "0.9\n",
      "1.12\n"
     ]
    }
   ],
   "source": [
    "for i in range(30):\n",
    "    value = 100+(i%random.randint(10, 25))*random.choice([-1, 1])\n",
    "    if random.randint(0, 3):\n",
    "        print(value)\n",
    "        writePrice(value)\n",
    "    else:\n",
    "        value/=100\n",
    "        print(value)\n",
    "        writeMarketMove(value)\n",
    "    time.sleep(0.4)"
   ]
  },
  {
   "cell_type": "code",
   "execution_count": null,
   "id": "ef69c439",
   "metadata": {},
   "outputs": [],
   "source": []
  }
 ],
 "metadata": {
  "kernelspec": {
   "display_name": "py3",
   "language": "python",
   "name": "python3"
  },
  "language_info": {
   "codemirror_mode": {
    "name": "ipython",
    "version": 3
   },
   "file_extension": ".py",
   "mimetype": "text/x-python",
   "name": "python",
   "nbconvert_exporter": "python",
   "pygments_lexer": "ipython3",
   "version": "3.8.12"
  }
 },
 "nbformat": 4,
 "nbformat_minor": 5
}
