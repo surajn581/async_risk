{
 "cells": [
  {
   "cell_type": "code",
   "execution_count": 1,
   "id": "5ef5b65e",
   "metadata": {},
   "outputs": [],
   "source": [
    "import importlib.util\n",
    "import importlib.abc\n",
    "import sys\n",
    "import os\n",
    "\n",
    "\n",
    "class CustomLoader(importlib.abc.Loader):\n",
    "    def __init__(self, fullname, path):\n",
    "        self.fullname = fullname\n",
    "        self.path = path\n",
    "\n",
    "    def create_module(self, spec):\n",
    "        return None  # Use default module creation\n",
    "\n",
    "    def exec_module(self, module):\n",
    "        with open(self.path, 'r', encoding='utf-8') as f:\n",
    "            source = f.read()\n",
    "        exec(source, module.__dict__)\n",
    "\n",
    "\n",
    "class CustomFinder(importlib.abc.MetaPathFinder):\n",
    "    def __init__(self, base_dir):\n",
    "        self.base_dir = os.path.abspath(base_dir)\n",
    "\n",
    "    def find_spec(self, fullname, path, target=None):\n",
    "        parts = fullname.split('.')\n",
    "        module_path = os.path.join(self.base_dir, *parts)\n",
    "\n",
    "        # Check for package (__init__.py)\n",
    "        init_path = os.path.join(module_path, '__init__.py')\n",
    "        if os.path.isfile(init_path):\n",
    "            loader = CustomLoader(fullname, init_path)\n",
    "            return importlib.util.spec_from_file_location(\n",
    "                fullname, init_path, loader=loader, submodule_search_locations=[module_path]\n",
    "            )\n",
    "\n",
    "        # Check for module (.py file)\n",
    "        file_path = module_path + '.py'\n",
    "        if os.path.isfile(file_path):\n",
    "            loader = CustomLoader(fullname, file_path)\n",
    "            return importlib.util.spec_from_file_location(fullname, file_path, loader=loader)\n",
    "\n",
    "        return None\n",
    "\n",
    "\n",
    "def install_custom_importer(directory):\n",
    "    sys.meta_path.insert(0, CustomFinder(directory))\n",
    "\n",
    "\n",
    "class CustomImporter:\n",
    "    def __init__(self, base_dir):\n",
    "        self.finder = CustomFinder(base_dir)\n",
    "\n",
    "    def __enter__(self):\n",
    "        sys.meta_path.insert(0, self.finder)\n",
    "\n",
    "    def __exit__(self, exc_type, exc_val, exc_tb):\n",
    "        if self.finder in sys.meta_path:\n",
    "            sys.meta_path.remove(self.finder)\n"
   ]
  },
  {
   "cell_type": "code",
   "execution_count": 4,
   "id": "cfd3d608",
   "metadata": {},
   "outputs": [],
   "source": [
    "install_custom_importer(r'C:\\Users\\suraj\\projects\\async_risk')"
   ]
  }
 ],
 "metadata": {
  "kernelspec": {
   "display_name": "py3",
   "language": "python",
   "name": "python3"
  },
  "language_info": {
   "codemirror_mode": {
    "name": "ipython",
    "version": 3
   },
   "file_extension": ".py",
   "mimetype": "text/x-python",
   "name": "python",
   "nbconvert_exporter": "python",
   "pygments_lexer": "ipython3",
   "version": "3.8.12"
  }
 },
 "nbformat": 4,
 "nbformat_minor": 5
}
