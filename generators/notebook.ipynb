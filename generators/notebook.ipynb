{
 "cells": [
  {
   "cell_type": "code",
   "execution_count": 1,
   "id": "968777b5",
   "metadata": {},
   "outputs": [],
   "source": [
    "from example import main"
   ]
  },
  {
   "cell_type": "code",
   "execution_count": 2,
   "id": "fd365295",
   "metadata": {},
   "outputs": [
    {
     "name": "stderr",
     "output_type": "stream",
     "text": [
      "2025-08-19 04:06:32.413India Standard Time 18280 21840 INFO Creating and running all the sleep tasks took 4.0094380378723145 seconds\n",
      "2025-08-19 04:06:32.414India Standard Time 18280 21840 INFO task: Coroutine(sleep, *(0,), **{}) | returned: slept for ~ 0.0 seconds\n",
      "2025-08-19 04:06:32.414India Standard Time 18280 21840 INFO task: Coroutine(sleep, *(1,), **{}) | returned: slept for ~ 1.0090785026550293 seconds\n",
      "2025-08-19 04:06:32.414India Standard Time 18280 21840 INFO task: Coroutine(sleep, *(2,), **{}) | returned: slept for ~ 2.0097639560699463 seconds\n",
      "2025-08-19 04:06:32.414India Standard Time 18280 21840 INFO task: Coroutine(sleep, *(3,), **{}) | returned: slept for ~ 3.000359296798706 seconds\n",
      "2025-08-19 04:06:32.414India Standard Time 18280 21840 INFO task: Coroutine(sleep, *(4,), **{}) | returned: slept for ~ 4.008438587188721 seconds\n"
     ]
    }
   ],
   "source": [
    "main()"
   ]
  }
 ],
 "metadata": {
  "kernelspec": {
   "display_name": "py3",
   "language": "python",
   "name": "python3"
  },
  "language_info": {
   "codemirror_mode": {
    "name": "ipython",
    "version": 3
   },
   "file_extension": ".py",
   "mimetype": "text/x-python",
   "name": "python",
   "nbconvert_exporter": "python",
   "pygments_lexer": "ipython3",
   "version": "3.8.12"
  }
 },
 "nbformat": 4,
 "nbformat_minor": 5
}
